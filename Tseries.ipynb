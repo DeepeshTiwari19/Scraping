{
 "cells": [
  {
   "cell_type": "code",
   "execution_count": 52,
   "metadata": {},
   "outputs": [],
   "source": [
    "from selenium import webdriver\n",
    "from selenium.webdriver.chrome.service import Service\n",
    "import time\n",
    "import pandas as pd\n",
    "import random\n",
    "from datetime import datetime, timedelta"
   ]
  },
  {
   "cell_type": "code",
   "execution_count": 53,
   "metadata": {},
   "outputs": [],
   "source": [
    "chrome_options = webdriver.ChromeOptions()\n",
    "prefs = {\"profile.default_content_setting_values.notifications\" : 2}\n",
    "chrome_options.add_experimental_option(\"prefs\",prefs)\n",
    "from selenium.webdriver.support.wait import WebDriverWait"
   ]
  },
  {
   "cell_type": "code",
   "execution_count": 54,
   "metadata": {},
   "outputs": [],
   "source": [
    "# driver = webdriver.Chrome('C:\\Users\\Administrator.SERVER\\Downloads\\chromedriver_win32\\\\chromedriver.exe', chrome_options=chrome_options)\n",
    "service = Service()\n",
    "options = webdriver.ChromeOptions()\n",
    "options.add_argument(\"start-maximized\")\n",
    "driver = webdriver.Chrome(service=service, options=options)"
   ]
  },
  {
   "cell_type": "code",
   "execution_count": 55,
   "metadata": {},
   "outputs": [],
   "source": [
    "driver.get(\"https://www.youtube.com/@tseries/videos\")"
   ]
  },
  {
   "cell_type": "code",
   "execution_count": 56,
   "metadata": {},
   "outputs": [],
   "source": [
    "WAIT_IN_SECONDS = 0.5\n",
    "last_height = driver.execute_script(\"return document.documentElement.scrollHeight\")\n",
    "today = datetime.today()\n",
    "ten_days_ago = today - timedelta(days=10)\n",
    "\n",
    "try:\n",
    "    while True:\n",
    "        driver.execute_script(\"window.scrollTo(0, arguments[0]);\", last_height)\n",
    "\n",
    "        new_height = driver.execute_script(\"return document.documentElement.scrollHeight\")\n",
    "        items = driver.find_elements(By.CSS_SELECTOR, \"your-item-selector\")\n",
    "\n",
    "        for item in items:\n",
    "            date_str = item.find_element(By.CSS_SELECTOR, \"your-date-selector\").text\n",
    "            date = datetime.strptime(date_str, \"your-date-format\")\n",
    "\n",
    "            if date >= ten_days_ago:\n",
    "                pass\n",
    "            else:\n",
    "                break\n",
    "\n",
    "        if new_height == last_height:\n",
    "            break\n",
    "        last_height = new_height\n",
    "except Exception as e:\n",
    "    print(e)\n",
    "    driver.quit()\n",
    "\n",
    "    \n",
    "   "
   ]
  },
  {
   "cell_type": "code",
   "execution_count": 57,
   "metadata": {},
   "outputs": [
    {
     "name": "stdout",
     "output_type": "stream",
     "text": [
      "<selenium.webdriver.remote.webelement.WebElement (session=\"47d6ce5cf8161afe72676bfacfe04cae\", element=\"351E1787D4AA471072EFC756A397672E_element_58\")>\n",
      "[<selenium.webdriver.remote.webelement.WebElement (session=\"47d6ce5cf8161afe72676bfacfe04cae\", element=\"351E1787D4AA471072EFC756A397672E_element_59\")>, <selenium.webdriver.remote.webelement.WebElement (session=\"47d6ce5cf8161afe72676bfacfe04cae\", element=\"351E1787D4AA471072EFC756A397672E_element_60\")>, <selenium.webdriver.remote.webelement.WebElement (session=\"47d6ce5cf8161afe72676bfacfe04cae\", element=\"351E1787D4AA471072EFC756A397672E_element_61\")>, <selenium.webdriver.remote.webelement.WebElement (session=\"47d6ce5cf8161afe72676bfacfe04cae\", element=\"351E1787D4AA471072EFC756A397672E_element_62\")>, <selenium.webdriver.remote.webelement.WebElement (session=\"47d6ce5cf8161afe72676bfacfe04cae\", element=\"351E1787D4AA471072EFC756A397672E_element_63\")>, <selenium.webdriver.remote.webelement.WebElement (session=\"47d6ce5cf8161afe72676bfacfe04cae\", element=\"351E1787D4AA471072EFC756A397672E_element_64\")>, <selenium.webdriver.remote.webelement.WebElement (session=\"47d6ce5cf8161afe72676bfacfe04cae\", element=\"351E1787D4AA471072EFC756A397672E_element_65\")>, <selenium.webdriver.remote.webelement.WebElement (session=\"47d6ce5cf8161afe72676bfacfe04cae\", element=\"351E1787D4AA471072EFC756A397672E_element_66\")>, <selenium.webdriver.remote.webelement.WebElement (session=\"47d6ce5cf8161afe72676bfacfe04cae\", element=\"351E1787D4AA471072EFC756A397672E_element_67\")>, <selenium.webdriver.remote.webelement.WebElement (session=\"47d6ce5cf8161afe72676bfacfe04cae\", element=\"351E1787D4AA471072EFC756A397672E_element_68\")>, <selenium.webdriver.remote.webelement.WebElement (session=\"47d6ce5cf8161afe72676bfacfe04cae\", element=\"351E1787D4AA471072EFC756A397672E_element_69\")>, <selenium.webdriver.remote.webelement.WebElement (session=\"47d6ce5cf8161afe72676bfacfe04cae\", element=\"351E1787D4AA471072EFC756A397672E_element_70\")>, <selenium.webdriver.remote.webelement.WebElement (session=\"47d6ce5cf8161afe72676bfacfe04cae\", element=\"351E1787D4AA471072EFC756A397672E_element_71\")>, <selenium.webdriver.remote.webelement.WebElement (session=\"47d6ce5cf8161afe72676bfacfe04cae\", element=\"351E1787D4AA471072EFC756A397672E_element_72\")>, <selenium.webdriver.remote.webelement.WebElement (session=\"47d6ce5cf8161afe72676bfacfe04cae\", element=\"351E1787D4AA471072EFC756A397672E_element_73\")>]\n",
      "https://www.youtube.com/watch?v=BP6ZRMDgPMk\n",
      "https://www.youtube.com/watch?v=0H5SSpeVsag\n",
      "https://www.youtube.com/watch?v=224EFEddxMk\n",
      "https://www.youtube.com/watch?v=BIJtBftmYeU\n",
      "https://www.youtube.com/watch?v=tKrve0JtDIY\n",
      "https://www.youtube.com/watch?v=8FWnFUT3SjE\n",
      "https://www.youtube.com/watch?v=EUeF1M1BsfA\n",
      "https://www.youtube.com/watch?v=kUfQlfD6tuM\n",
      "https://www.youtube.com/watch?v=qYQDIorPfko\n",
      "https://www.youtube.com/watch?v=R15GfskydYw\n",
      "https://www.youtube.com/watch?v=QNZg3dJDj_M\n",
      "https://www.youtube.com/watch?v=_YrLJpwIXVE\n",
      "https://www.youtube.com/watch?v=ohwgDIRsEC4\n",
      "https://www.youtube.com/watch?v=gipEC9baABM\n",
      "https://www.youtube.com/watch?v=sbpupndTjr8\n",
      "https://www.youtube.com/watch?v=BkHH5AlMwZ8\n",
      "https://www.youtube.com/watch?v=Yb15ZAL9eZg\n",
      "https://www.youtube.com/watch?v=4qbzOXpKpqM\n",
      "https://www.youtube.com/watch?v=i8EzwPgNT_I\n",
      "https://www.youtube.com/watch?v=UcM9YehgwAI\n",
      "https://www.youtube.com/watch?v=Eu9M9Q7eA5w\n",
      "https://www.youtube.com/watch?v=ProzlK5sj-s\n",
      "https://www.youtube.com/watch?v=cUJLP_F0ZWY\n",
      "https://www.youtube.com/watch?v=8QWSPyDVIEs\n",
      "https://www.youtube.com/watch?v=1N5jLnPVgL0\n",
      "https://www.youtube.com/watch?v=NoHDNyc7A5k\n",
      "https://www.youtube.com/watch?v=iP5b6wWs5UQ\n",
      "https://www.youtube.com/watch?v=nUCzqOC7kDI\n",
      "https://www.youtube.com/watch?v=bTEfWlnLc3w\n",
      "https://www.youtube.com/watch?v=0qtFzJrK85k\n",
      "https://www.youtube.com/watch?v=I5B9deyLXMY\n",
      "https://www.youtube.com/watch?v=Q_fR8AktyG8\n",
      "https://www.youtube.com/watch?v=GQIUM9wVoRQ\n",
      "https://www.youtube.com/watch?v=cNkxk9Ge_cE\n",
      "https://www.youtube.com/watch?v=ALlaZPnxgPg\n",
      "https://www.youtube.com/watch?v=G1U7lY1nNBw\n",
      "https://www.youtube.com/watch?v=dBBcXkuSqJA\n",
      "https://www.youtube.com/watch?v=5V04DETPF0o\n",
      "https://www.youtube.com/watch?v=pTkLYW6Vr64\n",
      "https://www.youtube.com/watch?v=Iy1RhfxielI\n",
      "https://www.youtube.com/watch?v=tbgHo0Uqvs0\n",
      "https://www.youtube.com/watch?v=stjZKBhQ3lg\n",
      "https://www.youtube.com/watch?v=TCZH0hYCsew\n",
      "https://www.youtube.com/watch?v=3LfXiUVj-Bg\n",
      "https://www.youtube.com/watch?v=EuxI7TDAjBo\n",
      "https://www.youtube.com/watch?v=G_bDrEkEu1w\n",
      "https://www.youtube.com/watch?v=p1p3Tjs42S8\n",
      "https://www.youtube.com/watch?v=IV5SAWjge_A\n",
      "https://www.youtube.com/watch?v=Klrjn8Q0Ki8\n",
      "https://www.youtube.com/watch?v=XqJdIMaPp7E\n",
      "https://www.youtube.com/watch?v=j4B_esvcQng\n",
      "https://www.youtube.com/watch?v=YyVRF2zw3Rw\n",
      "https://www.youtube.com/watch?v=0wYyXqeEDm4\n",
      "https://www.youtube.com/watch?v=hYiVkZVjFsw\n",
      "https://www.youtube.com/watch?v=Tek20GGCYQ8\n",
      "https://www.youtube.com/watch?v=CSp6TC0gUdc\n",
      "https://www.youtube.com/watch?v=8BBBFE093ts\n",
      "https://www.youtube.com/watch?v=zaVYonU7WZ0\n",
      "https://www.youtube.com/watch?v=fx_dALCN1LA\n",
      "https://www.youtube.com/watch?v=vHrq4im9_X0\n",
      "List of URLs:\n",
      "https://www.youtube.com/watch?v=BP6ZRMDgPMk\n",
      "https://www.youtube.com/watch?v=0H5SSpeVsag\n",
      "https://www.youtube.com/watch?v=224EFEddxMk\n",
      "https://www.youtube.com/watch?v=BIJtBftmYeU\n",
      "https://www.youtube.com/watch?v=tKrve0JtDIY\n",
      "https://www.youtube.com/watch?v=8FWnFUT3SjE\n",
      "https://www.youtube.com/watch?v=EUeF1M1BsfA\n",
      "https://www.youtube.com/watch?v=kUfQlfD6tuM\n",
      "https://www.youtube.com/watch?v=qYQDIorPfko\n",
      "https://www.youtube.com/watch?v=R15GfskydYw\n",
      "https://www.youtube.com/watch?v=QNZg3dJDj_M\n",
      "https://www.youtube.com/watch?v=_YrLJpwIXVE\n",
      "https://www.youtube.com/watch?v=ohwgDIRsEC4\n",
      "https://www.youtube.com/watch?v=gipEC9baABM\n",
      "https://www.youtube.com/watch?v=sbpupndTjr8\n",
      "https://www.youtube.com/watch?v=BkHH5AlMwZ8\n",
      "https://www.youtube.com/watch?v=Yb15ZAL9eZg\n",
      "https://www.youtube.com/watch?v=4qbzOXpKpqM\n",
      "https://www.youtube.com/watch?v=i8EzwPgNT_I\n",
      "https://www.youtube.com/watch?v=UcM9YehgwAI\n",
      "https://www.youtube.com/watch?v=Eu9M9Q7eA5w\n",
      "https://www.youtube.com/watch?v=ProzlK5sj-s\n",
      "https://www.youtube.com/watch?v=cUJLP_F0ZWY\n",
      "https://www.youtube.com/watch?v=8QWSPyDVIEs\n",
      "https://www.youtube.com/watch?v=1N5jLnPVgL0\n",
      "https://www.youtube.com/watch?v=NoHDNyc7A5k\n",
      "https://www.youtube.com/watch?v=iP5b6wWs5UQ\n",
      "https://www.youtube.com/watch?v=nUCzqOC7kDI\n",
      "https://www.youtube.com/watch?v=bTEfWlnLc3w\n",
      "https://www.youtube.com/watch?v=0qtFzJrK85k\n",
      "https://www.youtube.com/watch?v=I5B9deyLXMY\n",
      "https://www.youtube.com/watch?v=Q_fR8AktyG8\n",
      "https://www.youtube.com/watch?v=GQIUM9wVoRQ\n",
      "https://www.youtube.com/watch?v=cNkxk9Ge_cE\n",
      "https://www.youtube.com/watch?v=ALlaZPnxgPg\n",
      "https://www.youtube.com/watch?v=G1U7lY1nNBw\n",
      "https://www.youtube.com/watch?v=dBBcXkuSqJA\n",
      "https://www.youtube.com/watch?v=5V04DETPF0o\n",
      "https://www.youtube.com/watch?v=pTkLYW6Vr64\n",
      "https://www.youtube.com/watch?v=Iy1RhfxielI\n",
      "https://www.youtube.com/watch?v=tbgHo0Uqvs0\n",
      "https://www.youtube.com/watch?v=stjZKBhQ3lg\n",
      "https://www.youtube.com/watch?v=TCZH0hYCsew\n",
      "https://www.youtube.com/watch?v=3LfXiUVj-Bg\n",
      "https://www.youtube.com/watch?v=EuxI7TDAjBo\n",
      "https://www.youtube.com/watch?v=G_bDrEkEu1w\n",
      "https://www.youtube.com/watch?v=p1p3Tjs42S8\n",
      "https://www.youtube.com/watch?v=IV5SAWjge_A\n",
      "https://www.youtube.com/watch?v=Klrjn8Q0Ki8\n",
      "https://www.youtube.com/watch?v=XqJdIMaPp7E\n",
      "https://www.youtube.com/watch?v=j4B_esvcQng\n",
      "https://www.youtube.com/watch?v=YyVRF2zw3Rw\n",
      "https://www.youtube.com/watch?v=0wYyXqeEDm4\n",
      "https://www.youtube.com/watch?v=hYiVkZVjFsw\n",
      "https://www.youtube.com/watch?v=Tek20GGCYQ8\n",
      "https://www.youtube.com/watch?v=CSp6TC0gUdc\n",
      "https://www.youtube.com/watch?v=8BBBFE093ts\n",
      "https://www.youtube.com/watch?v=zaVYonU7WZ0\n",
      "https://www.youtube.com/watch?v=fx_dALCN1LA\n",
      "https://www.youtube.com/watch?v=vHrq4im9_X0\n"
     ]
    }
   ],
   "source": [
    "\n",
    "grid = driver.find_element('xpath', '/html/body/ytd-app/div[1]/ytd-page-manager/ytd-browse/ytd-two-column-browse-results-renderer/div[1]/ytd-rich-grid-renderer/div[7]')\n",
    "print(grid)\n",
    "\n",
    "grids = grid.find_elements('xpath', './/div[@id=\"contents\"][@class=\"style-scope ytd-rich-grid-row\"]')\n",
    "print(grids)\n",
    "\n",
    "url_list = []\n",
    "\n",
    "for g in range(len(grids)):\n",
    "    for i in range(1, 5):\n",
    "        xpth = f'/html/body/ytd-app/div[1]/ytd-page-manager/ytd-browse/ytd-two-column-browse-results-renderer/div[1]/ytd-rich-grid-renderer/div[7]/ytd-rich-grid-row[{g+1}]/div/ytd-rich-item-renderer[{i}]/div/ytd-rich-grid-media/div[1]/div[3]/div[1]/h3/a'\n",
    "\n",
    "        try:\n",
    "            infos = grids[g].find_element('xpath', xpth)\n",
    "            url = infos.get_attribute('href')\n",
    "            url_list.append(url)  \n",
    "            print(url)\n",
    "        except NoSuchElementException:\n",
    "            print(f\"Element not found for {xpth}\")\n",
    "\n",
    "\n",
    "print(\"List of URLs:\")\n",
    "for url in url_list:\n",
    "    print(url)\n",
    "\n",
    "driver.quit()"
   ]
  },
  {
   "cell_type": "code",
   "execution_count": 60,
   "metadata": {},
   "outputs": [
    {
     "data": {
      "text/plain": [
       "['https://www.youtube.com/watch?v=BP6ZRMDgPMk',\n",
       " 'https://www.youtube.com/watch?v=0H5SSpeVsag',\n",
       " 'https://www.youtube.com/watch?v=224EFEddxMk',\n",
       " 'https://www.youtube.com/watch?v=BIJtBftmYeU',\n",
       " 'https://www.youtube.com/watch?v=tKrve0JtDIY',\n",
       " 'https://www.youtube.com/watch?v=8FWnFUT3SjE',\n",
       " 'https://www.youtube.com/watch?v=EUeF1M1BsfA',\n",
       " 'https://www.youtube.com/watch?v=kUfQlfD6tuM',\n",
       " 'https://www.youtube.com/watch?v=qYQDIorPfko',\n",
       " 'https://www.youtube.com/watch?v=R15GfskydYw',\n",
       " 'https://www.youtube.com/watch?v=QNZg3dJDj_M',\n",
       " 'https://www.youtube.com/watch?v=_YrLJpwIXVE',\n",
       " 'https://www.youtube.com/watch?v=ohwgDIRsEC4',\n",
       " 'https://www.youtube.com/watch?v=gipEC9baABM',\n",
       " 'https://www.youtube.com/watch?v=sbpupndTjr8',\n",
       " 'https://www.youtube.com/watch?v=BkHH5AlMwZ8',\n",
       " 'https://www.youtube.com/watch?v=Yb15ZAL9eZg',\n",
       " 'https://www.youtube.com/watch?v=4qbzOXpKpqM',\n",
       " 'https://www.youtube.com/watch?v=i8EzwPgNT_I',\n",
       " 'https://www.youtube.com/watch?v=UcM9YehgwAI',\n",
       " 'https://www.youtube.com/watch?v=Eu9M9Q7eA5w',\n",
       " 'https://www.youtube.com/watch?v=ProzlK5sj-s',\n",
       " 'https://www.youtube.com/watch?v=cUJLP_F0ZWY',\n",
       " 'https://www.youtube.com/watch?v=8QWSPyDVIEs',\n",
       " 'https://www.youtube.com/watch?v=1N5jLnPVgL0',\n",
       " 'https://www.youtube.com/watch?v=NoHDNyc7A5k',\n",
       " 'https://www.youtube.com/watch?v=iP5b6wWs5UQ',\n",
       " 'https://www.youtube.com/watch?v=nUCzqOC7kDI',\n",
       " 'https://www.youtube.com/watch?v=bTEfWlnLc3w',\n",
       " 'https://www.youtube.com/watch?v=0qtFzJrK85k',\n",
       " 'https://www.youtube.com/watch?v=I5B9deyLXMY',\n",
       " 'https://www.youtube.com/watch?v=Q_fR8AktyG8',\n",
       " 'https://www.youtube.com/watch?v=GQIUM9wVoRQ',\n",
       " 'https://www.youtube.com/watch?v=cNkxk9Ge_cE',\n",
       " 'https://www.youtube.com/watch?v=ALlaZPnxgPg',\n",
       " 'https://www.youtube.com/watch?v=G1U7lY1nNBw',\n",
       " 'https://www.youtube.com/watch?v=dBBcXkuSqJA',\n",
       " 'https://www.youtube.com/watch?v=5V04DETPF0o',\n",
       " 'https://www.youtube.com/watch?v=pTkLYW6Vr64',\n",
       " 'https://www.youtube.com/watch?v=Iy1RhfxielI',\n",
       " 'https://www.youtube.com/watch?v=tbgHo0Uqvs0',\n",
       " 'https://www.youtube.com/watch?v=stjZKBhQ3lg',\n",
       " 'https://www.youtube.com/watch?v=TCZH0hYCsew',\n",
       " 'https://www.youtube.com/watch?v=3LfXiUVj-Bg',\n",
       " 'https://www.youtube.com/watch?v=EuxI7TDAjBo',\n",
       " 'https://www.youtube.com/watch?v=G_bDrEkEu1w',\n",
       " 'https://www.youtube.com/watch?v=p1p3Tjs42S8',\n",
       " 'https://www.youtube.com/watch?v=IV5SAWjge_A',\n",
       " 'https://www.youtube.com/watch?v=Klrjn8Q0Ki8',\n",
       " 'https://www.youtube.com/watch?v=XqJdIMaPp7E',\n",
       " 'https://www.youtube.com/watch?v=j4B_esvcQng',\n",
       " 'https://www.youtube.com/watch?v=YyVRF2zw3Rw',\n",
       " 'https://www.youtube.com/watch?v=0wYyXqeEDm4',\n",
       " 'https://www.youtube.com/watch?v=hYiVkZVjFsw',\n",
       " 'https://www.youtube.com/watch?v=Tek20GGCYQ8',\n",
       " 'https://www.youtube.com/watch?v=CSp6TC0gUdc',\n",
       " 'https://www.youtube.com/watch?v=8BBBFE093ts',\n",
       " 'https://www.youtube.com/watch?v=zaVYonU7WZ0',\n",
       " 'https://www.youtube.com/watch?v=fx_dALCN1LA',\n",
       " 'https://www.youtube.com/watch?v=vHrq4im9_X0']"
      ]
     },
     "execution_count": 60,
     "metadata": {},
     "output_type": "execute_result"
    }
   ],
   "source": [
    "url_list"
   ]
  },
  {
   "cell_type": "code",
   "execution_count": 61,
   "metadata": {
    "scrolled": false
   },
   "outputs": [],
   "source": [
    "data = {'URLs': url_list}\n",
    "df = pd.DataFrame(data)\n",
    "df.to_csv('urls.csv', index=False)"
   ]
  },
  {
   "cell_type": "code",
   "execution_count": 62,
   "metadata": {},
   "outputs": [
    {
     "name": "stdout",
     "output_type": "stream",
     "text": [
      "['https://www.youtube.com/watch?v=BP6ZRMDgPMk', 'https://www.youtube.com/watch?v=0H5SSpeVsag']\n"
     ]
    }
   ],
   "source": [
    "beginning_urls = df['URLs'].head(2).tolist()\n",
    "print(beginning_urls)"
   ]
  },
  {
   "cell_type": "code",
   "execution_count": 66,
   "metadata": {},
   "outputs": [
    {
     "name": "stdout",
     "output_type": "stream",
     "text": [
      "BP6ZRMDgPMk0H5SSpeVsag\n"
     ]
    }
   ],
   "source": [
    "video_id1 = beginning_urls[0].split(\"v=\")[1].strip()\n",
    "video_id2 = beginning_urls[1].split(\"v=\")[1].strip()\n",
    "\n",
    "\n",
    "Both=video_id1+video_id2\n",
    "print(Both)"
   ]
  },
  {
   "cell_type": "code",
   "execution_count": 67,
   "metadata": {},
   "outputs": [
    {
     "name": "stdout",
     "output_type": "stream",
     "text": [
      "6: 1\n",
      "0: 1\n",
      "5: 1\n",
      "b: 1\n",
      "p: 3\n",
      "z: 1\n",
      "r: 1\n",
      "m: 2\n",
      "d: 1\n",
      "g: 2\n",
      "k: 1\n",
      "h: 1\n",
      "s: 3\n",
      "e: 1\n",
      "v: 1\n",
      "a: 1\n"
     ]
    }
   ],
   "source": [
    "num_count = {}\n",
    "alpha_count = {}\n",
    "\n",
    "for char in Both:\n",
    "    if char.isdigit():\n",
    "        if char in num_count:\n",
    "            num_count[char] += 1\n",
    "        else:\n",
    "            num_count[char] = 1\n",
    "    elif char.isalpha():\n",
    "        char = char.lower() \n",
    "        if char in alpha_count:\n",
    "            alpha_count[char] += 1\n",
    "        else:\n",
    "            alpha_count[char] = 1\n",
    "\n",
    "\n",
    "for digit, count in num_count.items():\n",
    "    print(f\"{digit}: {count}\")\n",
    "\n",
    "for letter, count in alpha_count.items():\n",
    "    print(f\"{letter}: {count}\")"
   ]
  },
  {
   "cell_type": "code",
   "execution_count": null,
   "metadata": {},
   "outputs": [],
   "source": []
  }
 ],
 "metadata": {
  "kernelspec": {
   "display_name": "Python 3",
   "language": "python",
   "name": "python3"
  },
  "language_info": {
   "codemirror_mode": {
    "name": "ipython",
    "version": 3
   },
   "file_extension": ".py",
   "mimetype": "text/x-python",
   "name": "python",
   "nbconvert_exporter": "python",
   "pygments_lexer": "ipython3",
   "version": "3.8.3"
  }
 },
 "nbformat": 4,
 "nbformat_minor": 5
}
