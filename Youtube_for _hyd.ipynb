{
 "cells": [
  {
   "cell_type": "code",
   "execution_count": 1,
   "id": "42b95df7",
   "metadata": {},
   "outputs": [],
   "source": [
    "from selenium import webdriver\n",
    "from selenium.webdriver.common.keys import Keys\n",
    "from selenium.webdriver.support import expected_conditions as EC\n",
    "from selenium.webdriver.common.by import By\n",
    "from selenium.webdriver.support.wait import WebDriverWait\n",
    "from selenium.webdriver.chrome.service import Service\n",
    "import time\n",
    "import pandas as pd\n",
    "import random"
   ]
  },
  {
   "cell_type": "code",
   "execution_count": 2,
   "id": "d9e220ba",
   "metadata": {},
   "outputs": [],
   "source": [
    "chrome_options = webdriver.ChromeOptions()\n",
    "prefs = {\"profile.default_content_setting_values.notifications\" : 2}\n",
    "chrome_options.add_experimental_option(\"prefs\",prefs)\n",
    "from selenium.webdriver.support.wait import WebDriverWait"
   ]
  },
  {
   "cell_type": "code",
   "execution_count": 3,
   "id": "c0ca0b01",
   "metadata": {},
   "outputs": [],
   "source": [
    "# driver = webdriver.Chrome('C:\\Users\\Administrator.SERVER\\Downloads\\chromedriver_win32\\\\chromedriver.exe', chrome_options=chrome_options)\n",
    "service = Service()\n",
    "options = webdriver.ChromeOptions()\n",
    "options.add_argument(\"start-maximized\")\n",
    "driver = webdriver.Chrome(service=service, options=options)"
   ]
  },
  {
   "cell_type": "code",
   "execution_count": 4,
   "id": "5390e156",
   "metadata": {},
   "outputs": [],
   "source": [
    "#open the webpage\n",
    "driver.get(\"https://www.youtube.com/@ColaberrySODA/videos\")"
   ]
  },
  {
   "cell_type": "code",
   "execution_count": 5,
   "id": "49930a0c",
   "metadata": {},
   "outputs": [],
   "source": [
    "WAIT_IN_SECONDS = 0.5\n",
    "last_height = driver.execute_script(\"return document.documentElement.scrollHeight\")\n",
    "\n",
    "while True:\n",
    "    # Scroll to the bottom of the page\n",
    "    driver.execute_script(\"window.scrollTo(0, arguments[0]);\", last_height)\n",
    "    # Wait for new videos to show up\n",
    "    time.sleep(WAIT_IN_SECONDS)\n",
    "    \n",
    "    # Calculate the new document height and compare it with the last height\n",
    "    new_height = driver.execute_script(\"return document.documentElement.scrollHeight\")\n",
    "    if new_height == last_height:\n",
    "        break\n",
    "    last_height = new_height\n",
    "time.sleep(2)"
   ]
  },
  {
   "cell_type": "code",
   "execution_count": 6,
   "id": "9089227e",
   "metadata": {},
   "outputs": [],
   "source": [
    "URL = []\n",
    "Title = []"
   ]
  },
  {
   "cell_type": "code",
   "execution_count": 7,
   "id": "3f095a3a",
   "metadata": {},
   "outputs": [
    {
     "name": "stdout",
     "output_type": "stream",
     "text": [
      "<selenium.webdriver.remote.webelement.WebElement (session=\"e04588aa04cbaee94cefa989b3a9324a\", element=\"26E7B4CF3748C7566DFD054AE9B8EAFA_element_103\")>\n",
      "99\n"
     ]
    }
   ],
   "source": [
    "grid = driver.find_element('xpath','//div[@id=\"contents\"]')\n",
    "print(grid)\n",
    "grids = [i for i in grid.find_elements('xpath','.//ytd-rich-grid-row//div[@id=\"contents\"]')]\n",
    "print(len(grids))\n",
    "for g in range(0,len(grids)):\n",
    "    for j in range(1,4):\n",
    "        info = grids[g].find_element('xpath',f'/html/body/ytd-app/div[1]/ytd-page-manager/ytd-browse/ytd-two-column-browse-results-renderer/div[1]/ytd-rich-grid-renderer/div[6]/ytd-rich-grid-row[{g+1}]/div/ytd-rich-item-renderer[{j}]/div/ytd-rich-grid-media/div[1]/div[3]/div[1]/h3/a')\n",
    "\n",
    "        URL.append(info.get_attribute('href'))\n",
    "        Title.append(info.get_attribute('title'))\n",
    "        #break\n",
    "\n",
    "#break\n"
   ]
  },
  {
   "cell_type": "code",
   "execution_count": 8,
   "id": "d6863750",
   "metadata": {},
   "outputs": [
    {
     "data": {
      "text/plain": [
       "297"
      ]
     },
     "execution_count": 8,
     "metadata": {},
     "output_type": "execute_result"
    }
   ],
   "source": [
    "len(URL)"
   ]
  },
  {
   "cell_type": "code",
   "execution_count": 9,
   "id": "f7ca5d50",
   "metadata": {},
   "outputs": [
    {
     "data": {
      "text/plain": [
       "297"
      ]
     },
     "execution_count": 9,
     "metadata": {},
     "output_type": "execute_result"
    }
   ],
   "source": [
    "len(Title)"
   ]
  },
  {
   "cell_type": "code",
   "execution_count": 11,
   "id": "6802611d",
   "metadata": {},
   "outputs": [],
   "source": [
    "df = pd.DataFrame({'URL':URL,'Title':Title})"
   ]
  },
  {
   "cell_type": "code",
   "execution_count": 13,
   "id": "823af78f",
   "metadata": {},
   "outputs": [],
   "source": [
    "df.to_csv('Youtube.csv', index=False)"
   ]
  },
  {
   "cell_type": "code",
   "execution_count": null,
   "id": "5ac3d144",
   "metadata": {},
   "outputs": [],
   "source": []
  },
  {
   "cell_type": "code",
   "execution_count": null,
   "id": "f8d0a392",
   "metadata": {},
   "outputs": [],
   "source": []
  },
  {
   "cell_type": "code",
   "execution_count": null,
   "id": "939a2a18",
   "metadata": {},
   "outputs": [],
   "source": []
  }
 ],
 "metadata": {
  "kernelspec": {
   "display_name": "Python 3 (ipykernel)",
   "language": "python",
   "name": "python3"
  },
  "language_info": {
   "codemirror_mode": {
    "name": "ipython",
    "version": 3
   },
   "file_extension": ".py",
   "mimetype": "text/x-python",
   "name": "python",
   "nbconvert_exporter": "python",
   "pygments_lexer": "ipython3",
   "version": "3.11.3"
  }
 },
 "nbformat": 4,
 "nbformat_minor": 5
}
